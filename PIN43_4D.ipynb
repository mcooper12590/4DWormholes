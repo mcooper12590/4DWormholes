{
 "cells": [
  {
   "cell_type": "code",
   "execution_count": 3,
   "metadata": {},
   "outputs": [
    {
     "name": "stdout",
     "output_type": "stream",
     "text": [
      "Using matplotlib backend: Qt5Agg\n",
      "Populating the interactive namespace from numpy and matplotlib\n"
     ]
    }
   ],
   "source": [
    "%pylab\n",
    "import imageio\n",
    "import glob\n",
    "import pandas\n",
    "from tqdm.notebook import tqdm\n",
    "import scipy.ndimage as ndi\n",
    "from skimage import morphology\n",
    "from mayavi import mlab\n",
    "from os.path import basename"
   ]
  },
  {
   "cell_type": "code",
   "execution_count": 1,
   "metadata": {},
   "outputs": [],
   "source": [
    "rdir = \"/media/maxc/IcyBox/Cooper2021_Data/\"\n",
    "sname = \"PIN43\"\n",
    "sdir = f\"{rdir}{sname}/\""
   ]
  },
  {
   "cell_type": "code",
   "execution_count": null,
   "metadata": {},
   "outputs": [],
   "source": [
    "recondir = f\"{sdir}/4D/\"\n",
    "ilen = 3\n",
    "refnum = \"000\"\n",
    "subdir = f\"{sdir}Subtractions/\""
   ]
  },
  {
   "cell_type": "code",
   "execution_count": null,
   "metadata": {},
   "outputs": [],
   "source": [
    "totimgs = len(glob.glob(f\"{recondir}*.tif\"))\n",
    "reff = f\"{recondir}{sname}_{refnum}.tif\"\n",
    "refimg = imageio.volread(reff)\n",
    "print(f\"Loaded reference image: {reff}\")\n",
    "\n",
    "for i in arange(totimgs): # iterate over non-reference time slices\n",
    "    wnum = f\"{i:0>ilen}\" # working time slice name\n",
    "    wf = f\"{recondir}{sname}_{wnum}.tif\"\n",
    "    if  wf == reff:\n",
    "        continue\n",
    "\n",
    "    wimg = imageio.volread(wf) # working image\n",
    "    print(f\"Loaded working image: {wf}\")\n",
    "    # Subtract, if overflow uint16 -> pixel = 0 (ImageJ subtract behaviour)\n",
    "    res = refimg - wimg\n",
    "    res[refimg < wimg] = 0\n",
    "    ofile = f\"{subdir}{sname}_{refnum}-{wnum}.tif\"\n",
    "    imageio.volwrite(ofile, res)\n",
    "    print(\"Wrote image: \" + ofile)"
   ]
  },
  {
   "cell_type": "code",
   "execution_count": 2,
   "metadata": {},
   "outputs": [
    {
     "name": "stdout",
     "output_type": "stream",
     "text": [
      "PIN43_01-08.tif\n"
     ]
    }
   ],
   "source": [
    "bdir = f\"{sdir}HDSkeletons/\"\n",
    "cnum = 8\n",
    "cname = f\"{sname}_{refnum}-{cnum:0>ilen}.tif\"\n",
    "print(cname)"
   ]
  },
  {
   "cell_type": "code",
   "execution_count": 6,
   "metadata": {},
   "outputs": [],
   "source": [
    "i = imageio.volread(f\"{subdir}{cname}\")\n",
    "#i = i[fs:ls+1] # crop\n",
    "i = ndi.median_filter(i, (3,3,3)) # replace voxels with median of 3x3x3 window\n",
    "bi = i>=15000 # binary image from threshold\n",
    "bi = ndi.binary_fill_holes(bi) #fill holes in bi\n",
    "skel = morphology.skeletonize_3d(bi) # skeletonize by morphological thinning\n",
    "\n",
    "### Filters\n",
    "## Filter by counting number of skeleton voxels in window.\n",
    "# If less than number permitting to be part of wormhole, gives false.\n",
    "ws = 9\n",
    "wind = ones((ws,ws,ws))\n",
    "fval = 5\n",
    "filtered_skel = ndi.convolve(skel.astype(bool), wind, output=uint8, mode='constant', cval=0)>=fval\n",
    "filtered_skel = (filtered_skel&skel).astype(bool) # keep voxels where skeleton voxel meets filter params\n",
    "\n",
    "## Pass #2 with window to filter isolated voxels that break conversion to graph\n",
    "ws2 = 3\n",
    "wind = ones((ws2,ws2,ws2))\n",
    "filtered_skel = ndi.convolve(filtered_skel, wind, output=uint8, mode='constant', cval=0)>=1\n",
    "filtered_skel = (filtered_skel&skel).astype(bool)\n",
    "\n",
    "## Pass #3, isolated fragments or noise are OK if they are near/below the w.h. tip in z-dir.\n",
    "# However, if they are above they can throw off Z_max estimation\n",
    "\n",
    "frag = True\n",
    "while(frag):\n",
    "    zmax = where(any(filtered_skel, axis=(1,2)))[0].max() # Maximum z index where skel img contains a voxel\n",
    "    frag = ~any(filtered_skel[zmax-fval]) # Check if slice fval below zmax contains skeleton\n",
    "    if frag:\n",
    "        filtered_skel[zmax-fval:] = 0 # Remove fragment\n",
    "    else: break"
   ]
  },
  {
   "cell_type": "code",
   "execution_count": 7,
   "metadata": {},
   "outputs": [],
   "source": [
    "fig = mlab.figure(size=(600,1080))\n",
    "vol = mlab.pipeline.volume(mlab.pipeline.scalar_field((filtered_skel&skel).T))\n",
    "vol.volume_mapper_type = 'FixedPointVolumeRayCastMapper'\n",
    "vol.volume_property.shade = False"
   ]
  },
  {
   "cell_type": "code",
   "execution_count": 8,
   "metadata": {},
   "outputs": [],
   "source": [
    "imageio.volwrite(f\"{bdir}{cname}\", \\\n",
    "                 (filtered_skel&skel).astype(bool).astype(uint8))"
   ]
  },
  {
   "cell_type": "code",
   "execution_count": null,
   "metadata": {},
   "outputs": [],
   "source": [
    "recondir = bdir\n",
    "flist = sorted(glob.glob(f\"{recondir}*.tif\"))\n",
    "skimgs = [imageio.volread(i) for i in flist]"
   ]
  },
  {
   "cell_type": "code",
   "execution_count": null,
   "metadata": {},
   "outputs": [],
   "source": [
    "zmax = zeros(len(flist)) # Z_max for time slices\n",
    "\n",
    "skelinit = 0\n",
    "sf = False\n",
    "\n",
    "while not sf:\n",
    "    if sum(skimgs[skelinit]) < 1:\n",
    "        skelinit +=1\n",
    "    else: break\n",
    "\n",
    "for k, fname in enumerate(tqdm(flist[skelinit+1:])):\n",
    "    i = k+skelinit\n",
    "    zmax[i+1] = where(any(skimgs[i+1], axis=(1,2)))[0].max() # Z_max of current working skeleton"
   ]
  },
  {
   "cell_type": "code",
   "execution_count": null,
   "metadata": {},
   "outputs": [],
   "source": [
    "flist = [basename(i) for i in flist]\n",
    "df = pandas.DataFrame({\"Scan\":flist, \"Z_max\":zmax})\n",
    "plot(zmax)\n",
    "show()\n",
    "df.to_csv(\"PIN43_Zmax.csv\")"
   ]
  }
 ],
 "metadata": {
  "kernelspec": {
   "display_name": "Python 3",
   "language": "python",
   "name": "python3"
  },
  "language_info": {
   "codemirror_mode": {
    "name": "ipython",
    "version": 3
   },
   "file_extension": ".py",
   "mimetype": "text/x-python",
   "name": "python",
   "nbconvert_exporter": "python",
   "pygments_lexer": "ipython3",
   "version": "3.8.5"
  }
 },
 "nbformat": 4,
 "nbformat_minor": 4
}
